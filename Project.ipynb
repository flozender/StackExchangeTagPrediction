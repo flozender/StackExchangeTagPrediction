{
 "cells": [
  {
   "cell_type": "code",
   "execution_count": 1,
   "metadata": {},
   "outputs": [],
   "source": [
    "import csv\n",
    "import os\n",
    "import sys\n",
    "# Spark imports\n",
    "from pyspark.rdd import RDD\n",
    "from pyspark.sql import DataFrame, Row\n",
    "from pyspark.sql import SparkSession\n",
    "from pyspark import SparkContext\n",
    "from pyspark.sql.functions import desc\n",
    "import pandas as pd\n",
    "from pyspark.sql import SparkSession\n",
    "from pyspark.sql.functions import split, col, expr\n",
    "from pyspark.ml.feature import HashingTF, IDF, Tokenizer, Word2Vec\n",
    "from pyspark.ml.classification import DecisionTreeClassifier, LogisticRegression\n",
    "from pyspark.mllib.classification import LogisticRegressionWithLBFGS\n",
    "from pyspark.mllib.regression import LabeledPoint\n",
    "import numpy \n",
    "\n",
    "from csv import reader"
   ]
  },
  {
   "cell_type": "code",
   "execution_count": 2,
   "metadata": {},
   "outputs": [],
   "source": [
    "def init_spark():\n",
    "    spark = SparkSession \\\n",
    "        .builder \\\n",
    "        .appName(\"Python Spark SQL basic example\") \\\n",
    "        .config(\"spark.some.config.option\", \"some-value\") \\\n",
    "        .getOrCreate()\n",
    "    return spark"
   ]
  },
  {
   "cell_type": "markdown",
   "metadata": {},
   "source": [
    "<Font size=5 color=red>Investigate the original dataset (obviously, it cannot be used). Take a look at https://stackoverflow.com/questions/13793529/r-error-invalid-type-list-for-variable to see how useless the Body column information could be!\n",
    "\n",
    "The point here is that the body information consists mostly of codes and some weird patterns that are not useful for our purpose. The most important information here is the connection between the title of the questions and tags. So, I removed the Body column from the dataset.</Font>"
   ]
  },
  {
   "cell_type": "code",
   "execution_count": null,
   "metadata": {},
   "outputs": [],
   "source": [
    "try:\n",
    "    spark = init_spark()\n",
    "\n",
    "    filename1 = \"./Train.csv\"\n",
    "    df2 = spark.read.option(\"multiLine\", 'true').option(\"escape\",\"\\'\").csv(filename1, header=True)\n",
    "    print(df2.count())\n",
    "    print(df2.show(10))    \n",
    "except:\n",
    "    pass"
   ]
  },
  {
   "cell_type": "markdown",
   "metadata": {},
   "source": [
    "<Font size=5 color=red>For removing the Body column, I read all the dataset once using Pandas library. After that, I removed the column and got an export to have a concrete file as our dataset. This part has been ommited from the notebook.</Font>"
   ]
  },
  {
   "cell_type": "code",
   "execution_count": 73,
   "metadata": {},
   "outputs": [
    {
     "name": "stdout",
     "output_type": "stream",
     "text": [
      "+---+--------------------+--------------------+--------------------+\n",
      "| _1|                  _2|                  _3|                  _4|\n",
      "+---+--------------------+--------------------+--------------------+\n",
      "| Id|               Title|                Body|                Tags|\n",
      "|  1|How to check if a...|<p>I'd like to ch...|php image-process...|\n",
      "|  2|How can I prevent...|<p>In my favorite...|             firefox|\n",
      "|  3|R Error Invalid t...|<p>I am import ma...|r matlab machine-...|\n",
      "|  4|How do I replace ...|<p>This is probab...|     c# url encoding|\n",
      "+---+--------------------+--------------------+--------------------+\n",
      "only showing top 5 rows\n",
      "\n"
     ]
    }
   ],
   "source": [
    "spark = init_spark()\n",
    "\n",
    "filename = \"./TrainWithoutBody.csv\"\n",
    "df1 = spark.read.option(\"multiLine\", 'true').option(\"escape\",\"\\'\").csv(filename, header=True)\n",
    "df1 = df1.drop(\"_c0\")\n",
    "df1 = df1.dropna()\n",
    "\n",
    "rddTags = df1.select(\"Tags\").rdd\n",
    "\n",
    "df1.count()"
   ]
  },
  {
   "cell_type": "code",
   "execution_count": 69,
   "metadata": {},
   "outputs": [
    {
     "name": "stdout",
     "output_type": "stream",
     "text": [
      "+--------------------+--------------------+--------------------+--------------------+\n",
      "|                  Id|               Title|                Body|                Tags|\n",
      "+--------------------+--------------------+--------------------+--------------------+\n",
      "|                   1|How to check if a...|<p>I'd like to ch...|php image-process...|\n",
      "|                   2|How can I prevent...|<p>In my favorite...|             firefox|\n",
      "|      rf_model = ...| data=expert_data...|     importance=TRUE|      do.trace=100);|\n",
      "|   ..$ NA: num [1:74| 1:12] 3 9 3 0 1 ...| 1:12] 5 7 3 30 0...| 1:12] 0 0 13 0 0...|\n",
      "|   ..$ NA: num [1:75| 1:12] 1 7 0 1 2 ...| 1:12] 10 7 8 15 ...| 1:12] 0 6 3 1 5 ...|\n",
      "+--------------------+--------------------+--------------------+--------------------+\n",
      "only showing top 5 rows\n",
      "\n"
     ]
    }
   ],
   "source": [
    "df1.show(5)"
   ]
  },
  {
   "cell_type": "markdown",
   "metadata": {},
   "source": [
    "<Font size = 5, color=green>Finding the 100 most used tags (one DT per each most used tag)"
   ]
  },
  {
   "cell_type": "code",
   "execution_count": 44,
   "metadata": {},
   "outputs": [
    {
     "ename": "KeyboardInterrupt",
     "evalue": "",
     "output_type": "error",
     "traceback": [
      "\u001b[1;31m---------------------------------------------------------------------------\u001b[0m",
      "\u001b[1;31mKeyboardInterrupt\u001b[0m                         Traceback (most recent call last)",
      "\u001b[1;32m<ipython-input-44-e500b55dfd40>\u001b[0m in \u001b[0;36m<module>\u001b[1;34m\u001b[0m\n\u001b[0;32m      8\u001b[0m \u001b[1;33m\u001b[0m\u001b[0m\n\u001b[0;32m      9\u001b[0m \u001b[1;33m\u001b[0m\u001b[0m\n\u001b[1;32m---> 10\u001b[1;33m \u001b[0mmostUsedTags\u001b[0m \u001b[1;33m=\u001b[0m \u001b[0msplittedTagsSorted\u001b[0m\u001b[1;33m.\u001b[0m\u001b[0mcollect\u001b[0m\u001b[1;33m(\u001b[0m\u001b[1;33m)\u001b[0m\u001b[1;33m[\u001b[0m\u001b[1;36m0\u001b[0m\u001b[1;33m:\u001b[0m\u001b[1;36m50\u001b[0m\u001b[1;33m]\u001b[0m\u001b[1;33m\u001b[0m\u001b[1;33m\u001b[0m\u001b[0m\n\u001b[0m\u001b[0;32m     11\u001b[0m \u001b[1;33m\u001b[0m\u001b[0m\n",
      "\u001b[1;32mE:\\Anaconda\\anaconda3\\lib\\site-packages\\pyspark\\rdd.py\u001b[0m in \u001b[0;36mcollect\u001b[1;34m(self)\u001b[0m\n\u001b[0;32m    887\u001b[0m         \"\"\"\n\u001b[0;32m    888\u001b[0m         \u001b[1;32mwith\u001b[0m \u001b[0mSCCallSiteSync\u001b[0m\u001b[1;33m(\u001b[0m\u001b[0mself\u001b[0m\u001b[1;33m.\u001b[0m\u001b[0mcontext\u001b[0m\u001b[1;33m)\u001b[0m \u001b[1;32mas\u001b[0m \u001b[0mcss\u001b[0m\u001b[1;33m:\u001b[0m\u001b[1;33m\u001b[0m\u001b[1;33m\u001b[0m\u001b[0m\n\u001b[1;32m--> 889\u001b[1;33m             \u001b[0msock_info\u001b[0m \u001b[1;33m=\u001b[0m \u001b[0mself\u001b[0m\u001b[1;33m.\u001b[0m\u001b[0mctx\u001b[0m\u001b[1;33m.\u001b[0m\u001b[0m_jvm\u001b[0m\u001b[1;33m.\u001b[0m\u001b[0mPythonRDD\u001b[0m\u001b[1;33m.\u001b[0m\u001b[0mcollectAndServe\u001b[0m\u001b[1;33m(\u001b[0m\u001b[0mself\u001b[0m\u001b[1;33m.\u001b[0m\u001b[0m_jrdd\u001b[0m\u001b[1;33m.\u001b[0m\u001b[0mrdd\u001b[0m\u001b[1;33m(\u001b[0m\u001b[1;33m)\u001b[0m\u001b[1;33m)\u001b[0m\u001b[1;33m\u001b[0m\u001b[1;33m\u001b[0m\u001b[0m\n\u001b[0m\u001b[0;32m    890\u001b[0m         \u001b[1;32mreturn\u001b[0m \u001b[0mlist\u001b[0m\u001b[1;33m(\u001b[0m\u001b[0m_load_from_socket\u001b[0m\u001b[1;33m(\u001b[0m\u001b[0msock_info\u001b[0m\u001b[1;33m,\u001b[0m \u001b[0mself\u001b[0m\u001b[1;33m.\u001b[0m\u001b[0m_jrdd_deserializer\u001b[0m\u001b[1;33m)\u001b[0m\u001b[1;33m)\u001b[0m\u001b[1;33m\u001b[0m\u001b[1;33m\u001b[0m\u001b[0m\n\u001b[0;32m    891\u001b[0m \u001b[1;33m\u001b[0m\u001b[0m\n",
      "\u001b[1;32mE:\\Anaconda\\anaconda3\\lib\\site-packages\\py4j\\java_gateway.py\u001b[0m in \u001b[0;36m__call__\u001b[1;34m(self, *args)\u001b[0m\n\u001b[0;32m   1301\u001b[0m             \u001b[0mproto\u001b[0m\u001b[1;33m.\u001b[0m\u001b[0mEND_COMMAND_PART\u001b[0m\u001b[1;33m\u001b[0m\u001b[1;33m\u001b[0m\u001b[0m\n\u001b[0;32m   1302\u001b[0m \u001b[1;33m\u001b[0m\u001b[0m\n\u001b[1;32m-> 1303\u001b[1;33m         \u001b[0manswer\u001b[0m \u001b[1;33m=\u001b[0m \u001b[0mself\u001b[0m\u001b[1;33m.\u001b[0m\u001b[0mgateway_client\u001b[0m\u001b[1;33m.\u001b[0m\u001b[0msend_command\u001b[0m\u001b[1;33m(\u001b[0m\u001b[0mcommand\u001b[0m\u001b[1;33m)\u001b[0m\u001b[1;33m\u001b[0m\u001b[1;33m\u001b[0m\u001b[0m\n\u001b[0m\u001b[0;32m   1304\u001b[0m         return_value = get_return_value(\n\u001b[0;32m   1305\u001b[0m             answer, self.gateway_client, self.target_id, self.name)\n",
      "\u001b[1;32mE:\\Anaconda\\anaconda3\\lib\\site-packages\\py4j\\java_gateway.py\u001b[0m in \u001b[0;36msend_command\u001b[1;34m(self, command, retry, binary)\u001b[0m\n\u001b[0;32m   1031\u001b[0m         \u001b[0mconnection\u001b[0m \u001b[1;33m=\u001b[0m \u001b[0mself\u001b[0m\u001b[1;33m.\u001b[0m\u001b[0m_get_connection\u001b[0m\u001b[1;33m(\u001b[0m\u001b[1;33m)\u001b[0m\u001b[1;33m\u001b[0m\u001b[1;33m\u001b[0m\u001b[0m\n\u001b[0;32m   1032\u001b[0m         \u001b[1;32mtry\u001b[0m\u001b[1;33m:\u001b[0m\u001b[1;33m\u001b[0m\u001b[1;33m\u001b[0m\u001b[0m\n\u001b[1;32m-> 1033\u001b[1;33m             \u001b[0mresponse\u001b[0m \u001b[1;33m=\u001b[0m \u001b[0mconnection\u001b[0m\u001b[1;33m.\u001b[0m\u001b[0msend_command\u001b[0m\u001b[1;33m(\u001b[0m\u001b[0mcommand\u001b[0m\u001b[1;33m)\u001b[0m\u001b[1;33m\u001b[0m\u001b[1;33m\u001b[0m\u001b[0m\n\u001b[0m\u001b[0;32m   1034\u001b[0m             \u001b[1;32mif\u001b[0m \u001b[0mbinary\u001b[0m\u001b[1;33m:\u001b[0m\u001b[1;33m\u001b[0m\u001b[1;33m\u001b[0m\u001b[0m\n\u001b[0;32m   1035\u001b[0m                 \u001b[1;32mreturn\u001b[0m \u001b[0mresponse\u001b[0m\u001b[1;33m,\u001b[0m \u001b[0mself\u001b[0m\u001b[1;33m.\u001b[0m\u001b[0m_create_connection_guard\u001b[0m\u001b[1;33m(\u001b[0m\u001b[0mconnection\u001b[0m\u001b[1;33m)\u001b[0m\u001b[1;33m\u001b[0m\u001b[1;33m\u001b[0m\u001b[0m\n",
      "\u001b[1;32mE:\\Anaconda\\anaconda3\\lib\\site-packages\\py4j\\java_gateway.py\u001b[0m in \u001b[0;36msend_command\u001b[1;34m(self, command)\u001b[0m\n\u001b[0;32m   1198\u001b[0m \u001b[1;33m\u001b[0m\u001b[0m\n\u001b[0;32m   1199\u001b[0m         \u001b[1;32mtry\u001b[0m\u001b[1;33m:\u001b[0m\u001b[1;33m\u001b[0m\u001b[1;33m\u001b[0m\u001b[0m\n\u001b[1;32m-> 1200\u001b[1;33m             \u001b[0manswer\u001b[0m \u001b[1;33m=\u001b[0m \u001b[0msmart_decode\u001b[0m\u001b[1;33m(\u001b[0m\u001b[0mself\u001b[0m\u001b[1;33m.\u001b[0m\u001b[0mstream\u001b[0m\u001b[1;33m.\u001b[0m\u001b[0mreadline\u001b[0m\u001b[1;33m(\u001b[0m\u001b[1;33m)\u001b[0m\u001b[1;33m[\u001b[0m\u001b[1;33m:\u001b[0m\u001b[1;33m-\u001b[0m\u001b[1;36m1\u001b[0m\u001b[1;33m]\u001b[0m\u001b[1;33m)\u001b[0m\u001b[1;33m\u001b[0m\u001b[1;33m\u001b[0m\u001b[0m\n\u001b[0m\u001b[0;32m   1201\u001b[0m             \u001b[0mlogger\u001b[0m\u001b[1;33m.\u001b[0m\u001b[0mdebug\u001b[0m\u001b[1;33m(\u001b[0m\u001b[1;34m\"Answer received: {0}\"\u001b[0m\u001b[1;33m.\u001b[0m\u001b[0mformat\u001b[0m\u001b[1;33m(\u001b[0m\u001b[0manswer\u001b[0m\u001b[1;33m)\u001b[0m\u001b[1;33m)\u001b[0m\u001b[1;33m\u001b[0m\u001b[1;33m\u001b[0m\u001b[0m\n\u001b[0;32m   1202\u001b[0m             \u001b[1;32mif\u001b[0m \u001b[0manswer\u001b[0m\u001b[1;33m.\u001b[0m\u001b[0mstartswith\u001b[0m\u001b[1;33m(\u001b[0m\u001b[0mproto\u001b[0m\u001b[1;33m.\u001b[0m\u001b[0mRETURN_MESSAGE\u001b[0m\u001b[1;33m)\u001b[0m\u001b[1;33m:\u001b[0m\u001b[1;33m\u001b[0m\u001b[1;33m\u001b[0m\u001b[0m\n",
      "\u001b[1;32mE:\\Anaconda\\anaconda3\\lib\\socket.py\u001b[0m in \u001b[0;36mreadinto\u001b[1;34m(self, b)\u001b[0m\n\u001b[0;32m    667\u001b[0m         \u001b[1;32mwhile\u001b[0m \u001b[1;32mTrue\u001b[0m\u001b[1;33m:\u001b[0m\u001b[1;33m\u001b[0m\u001b[1;33m\u001b[0m\u001b[0m\n\u001b[0;32m    668\u001b[0m             \u001b[1;32mtry\u001b[0m\u001b[1;33m:\u001b[0m\u001b[1;33m\u001b[0m\u001b[1;33m\u001b[0m\u001b[0m\n\u001b[1;32m--> 669\u001b[1;33m                 \u001b[1;32mreturn\u001b[0m \u001b[0mself\u001b[0m\u001b[1;33m.\u001b[0m\u001b[0m_sock\u001b[0m\u001b[1;33m.\u001b[0m\u001b[0mrecv_into\u001b[0m\u001b[1;33m(\u001b[0m\u001b[0mb\u001b[0m\u001b[1;33m)\u001b[0m\u001b[1;33m\u001b[0m\u001b[1;33m\u001b[0m\u001b[0m\n\u001b[0m\u001b[0;32m    670\u001b[0m             \u001b[1;32mexcept\u001b[0m \u001b[0mtimeout\u001b[0m\u001b[1;33m:\u001b[0m\u001b[1;33m\u001b[0m\u001b[1;33m\u001b[0m\u001b[0m\n\u001b[0;32m    671\u001b[0m                 \u001b[0mself\u001b[0m\u001b[1;33m.\u001b[0m\u001b[0m_timeout_occurred\u001b[0m \u001b[1;33m=\u001b[0m \u001b[1;32mTrue\u001b[0m\u001b[1;33m\u001b[0m\u001b[1;33m\u001b[0m\u001b[0m\n",
      "\u001b[1;31mKeyboardInterrupt\u001b[0m: "
     ]
    }
   ],
   "source": [
    "splittedTags = rddTags.filter(lambda r: r[0] != None).flatMap(lambda r: r[0].split(\" \")).map(lambda r: (r, 1)).reduceByKey(lambda x, y: x + y)\n",
    "\n",
    "splittedTags = splittedTags.sortBy(lambda r: r[1], False) #Sorted with number of usage (you can collect and see)\n",
    "\n",
    "splittedTagsSorted = splittedTags.map(lambda r: r[0]) #Delete this line if you want to see number of times they have been used.\n",
    "\n",
    "# df10 = anSorted.toDF()\n",
    "\n",
    "\n",
    "mostUsedTags = splittedTagsSorted.collect()[0:50]\n",
    "\n"
   ]
  },
  {
   "cell_type": "code",
   "execution_count": 6,
   "metadata": {},
   "outputs": [
    {
     "data": {
      "text/plain": [
       "['c#',\n",
       " 'java',\n",
       " 'php',\n",
       " 'javascript',\n",
       " 'android',\n",
       " 'jquery',\n",
       " 'c++',\n",
       " 'python',\n",
       " 'iphone',\n",
       " 'asp.net',\n",
       " 'mysql',\n",
       " 'html',\n",
       " '.net',\n",
       " 'ios',\n",
       " 'objective-c',\n",
       " 'sql',\n",
       " 'css',\n",
       " 'linux',\n",
       " 'ruby-on-rails',\n",
       " 'windows',\n",
       " 'c',\n",
       " 'sql-server',\n",
       " 'ruby',\n",
       " 'wpf',\n",
       " 'xml',\n",
       " 'ajax',\n",
       " 'database',\n",
       " 'regex',\n",
       " 'windows-7',\n",
       " 'asp.net-mvc',\n",
       " 'xcode',\n",
       " 'django',\n",
       " 'osx',\n",
       " 'arrays',\n",
       " 'vb.net',\n",
       " 'eclipse',\n",
       " 'json',\n",
       " 'facebook',\n",
       " 'ruby-on-rails-3',\n",
       " 'ubuntu',\n",
       " 'performance',\n",
       " 'networking',\n",
       " 'string',\n",
       " 'multithreading',\n",
       " 'winforms',\n",
       " 'security',\n",
       " 'asp.net-mvc-3',\n",
       " 'visual-studio-2010',\n",
       " 'bash',\n",
       " 'homework']"
      ]
     },
     "execution_count": 6,
     "metadata": {},
     "output_type": "execute_result"
    }
   ],
   "source": [
    "mostUsedTags"
   ]
  },
  {
   "cell_type": "code",
   "execution_count": 99,
   "metadata": {},
   "outputs": [
    {
     "name": "stdout",
     "output_type": "stream",
     "text": [
      "6017243\n"
     ]
    }
   ],
   "source": [
    "print(rddTags.count())"
   ]
  },
  {
   "cell_type": "code",
   "execution_count": 9,
   "metadata": {},
   "outputs": [
    {
     "data": {
      "text/plain": [
       "[Row(Tags='php image-processing file-upload upload mime-types'),\n",
       " Row(Tags='firefox'),\n",
       " Row(Tags='r matlab machine-learning'),\n",
       " Row(Tags='c# url encoding'),\n",
       " Row(Tags='php api file-get-contents'),\n",
       " Row(Tags='proxy active-directory jmeter'),\n",
       " Row(Tags='core-plot'),\n",
       " Row(Tags='c# asp.net windows-phone-7'),\n",
       " Row(Tags='.net javascript code-generation'),\n",
       " Row(Tags='sql variables parameters procedure calls')]"
      ]
     },
     "execution_count": 9,
     "metadata": {},
     "output_type": "execute_result"
    }
   ],
   "source": [
    "rddTags.take(10)"
   ]
  },
  {
   "cell_type": "markdown",
   "metadata": {},
   "source": [
    "<Font size=5.5, color=\"purpule\">Here, I have cleaned the Tags column to only contain the most used tags. For example, I ommited the \"upload\" tag from first group of tags for the first question, because it's not a most used tag."
   ]
  },
  {
   "cell_type": "code",
   "execution_count": 101,
   "metadata": {},
   "outputs": [],
   "source": [
    "def replaceNoneWithString(x):\n",
    "    if (x == None): return \"None\"\n",
    "    else : return x"
   ]
  },
  {
   "cell_type": "code",
   "execution_count": null,
   "metadata": {},
   "outputs": [],
   "source": [
    "rrr = rddTags.map(lambda r: r[0]).map(replaceNoneWithString).map(lambda r: r.split(\" \")).map(lambda r: [ped for ped in r if ped in mostUsedTags])\n",
    "cleanedTags = rrr.take(10)\n",
    "cleanedTags"
   ]
  },
  {
   "cell_type": "markdown",
   "metadata": {},
   "source": [
    "# Subject titles to TF-IDF"
   ]
  },
  {
   "cell_type": "code",
   "execution_count": 103,
   "metadata": {},
   "outputs": [],
   "source": [
    "tokenizer = Tokenizer(inputCol=\"Title\", outputCol=\"transformed_tfidf\")\n",
    "wordsData = tokenizer.transform(df1)\n",
    "\n",
    "hashingTF = HashingTF(inputCol=\"transformed_tfidf\", outputCol=\"rawFeatures\", numFeatures=20)\n",
    "featurizedData = hashingTF.transform(wordsData)\n",
    "\n",
    "featurizedData.take(1)\n",
    "\n",
    "idf = IDF(inputCol=\"rawFeatures\", outputCol=\"features\")\n",
    "idfModel = idf.fit(featurizedData)\n",
    "rescaledData = idfModel.transform(featurizedData)"
   ]
  },
  {
   "cell_type": "code",
   "execution_count": 12,
   "metadata": {},
   "outputs": [
    {
     "name": "stdout",
     "output_type": "stream",
     "text": [
      "+---+--------------------+--------------------+\n",
      "| id|                tags|            features|\n",
      "+---+--------------------+--------------------+\n",
      "|  1|php image-process...|(20,[1,3,4,8,9,10...|\n",
      "|  2|             firefox|(20,[1,2,3,7,12,1...|\n",
      "|  3|r matlab machine-...|(20,[2,4,5,6,7,17...|\n",
      "|  4|     c# url encoding|(20,[3,6,7,10,13,...|\n",
      "|  5|php api file-get-...|(20,[3,5,8,13,15,...|\n",
      "|  6|proxy active-dire...|(20,[0,3,4,7,13,1...|\n",
      "|  7|           core-plot|(20,[3,6,7,8,10,1...|\n",
      "|  8|c# asp.net window...|(20,[0,3,7,8,10,1...|\n",
      "|  9|.net javascript c...|(20,[0,1,3,4],[1....|\n",
      "| 10|sql variables par...|(20,[0,3,6,12,16,...|\n",
      "| 11|.net obfuscation ...|(20,[0,3,6,8,11,1...|\n",
      "| 12|algorithm languag...|(20,[0,1,5,19],[1...|\n",
      "| 13|postfix migration...|(20,[1,3,8,18,19]...|\n",
      "| 14|documentation lat...|(20,[10,13,16,17,...|\n",
      "| 15|           windows-7|(20,[1,2,12,13,15...|\n",
      "| 16|php url-routing c...|(20,[2,4,10,18],[...|\n",
      "| 17|   r temporary-files|(20,[3,5,8,13,15,...|\n",
      "| 18|         wpf binding|(20,[0,8,12,13,15...|\n",
      "| 19|javascript code-g...|(20,[6,11,13,14,1...|\n",
      "| 20|php xml hash mult...|(20,[1,2,7,8,10,1...|\n",
      "+---+--------------------+--------------------+\n",
      "only showing top 20 rows\n",
      "\n"
     ]
    },
    {
     "data": {
      "text/plain": [
       "[Row(Id='1', Title='How to check if an uploaded file is an image without mime type?', Tags='php image-processing file-upload upload mime-types', transformed_tfidf=['how', 'to', 'check', 'if', 'an', 'uploaded', 'file', 'is', 'an', 'image', 'without', 'mime', 'type?'], rawFeatures=SparseVector(20, {1: 1.0, 3: 3.0, 4: 1.0, 8: 2.0, 9: 1.0, 10: 2.0, 12: 2.0, 16: 1.0}), features=SparseVector(20, {1: 1.1357, 3: 1.8792, 4: 1.1753, 8: 1.4617, 9: 1.1974, 10: 2.0765, 12: 2.0979, 16: 0.9553}))]"
      ]
     },
     "execution_count": 12,
     "metadata": {},
     "output_type": "execute_result"
    }
   ],
   "source": [
    "rescaledData.select(\"id\", \"tags\", \"features\").show()\n",
    "rescaledData.take(1)"
   ]
  },
  {
   "cell_type": "markdown",
   "metadata": {},
   "source": [
    "# Word2Vec"
   ]
  },
  {
   "cell_type": "markdown",
   "metadata": {},
   "source": [
    "### Utility Functions and Constants"
   ]
  },
  {
   "cell_type": "code",
   "execution_count": 145,
   "metadata": {},
   "outputs": [],
   "source": [
    "num_labels = 50\n",
    "classifier_array = []\n",
    "\n",
    "def my_function(r):\n",
    "    tags = r.labels\n",
    "    labels = []\n",
    "    for t in mostUsedTags:\n",
    "        if t in tags:\n",
    "            labels.append(1)\n",
    "        else:\n",
    "            labels.append(0)\n",
    "    return (r.Id, r.Title, r.Tags, r.features, labels)"
   ]
  },
  {
   "cell_type": "markdown",
   "metadata": {},
   "source": [
    "### Load Data"
   ]
  },
  {
   "cell_type": "code",
   "execution_count": 152,
   "metadata": {},
   "outputs": [
    {
     "data": {
      "text/plain": [
       "StructType(List(StructField(Id,StringType,true),StructField(Title,StringType,true),StructField(Body,StringType,true),StructField(Tags,StringType,true)))"
      ]
     },
     "execution_count": 152,
     "metadata": {},
     "output_type": "execute_result"
    }
   ],
   "source": [
    "spark = init_spark()\n",
    "rdd = spark.sparkContext.textFile(\"./Train.csv\")\n",
    "\n",
    "w2v_data = rdd.mapPartitions(lambda x: csv.reader(x))\n",
    "\n",
    "colnames = ['Id']+['Title']+['Body']+['Tags'] \n",
    "\n",
    "w2v_data = w2v_data.toDF(colnames)\n",
    "w2v_data.select([col(c).cast(\"string\") for c in w2v_data.columns])\n",
    "w2v_data = w2v_data.filter(w2v_data.Id == '1')\n",
    "\n",
    "w2v_data.show()\n",
    "\n",
    "# Another example\n",
    "    "
   ]
  },
  {
   "cell_type": "markdown",
   "metadata": {},
   "source": [
    "### Data Featurization, Sampling and Structure"
   ]
  },
  {
   "cell_type": "code",
   "execution_count": 149,
   "metadata": {},
   "outputs": [
    {
     "ename": "TypeError",
     "evalue": "'StructType' object is not callable",
     "output_type": "error",
     "traceback": [
      "\u001b[1;31m---------------------------------------------------------------------------\u001b[0m",
      "\u001b[1;31mTypeError\u001b[0m                                 Traceback (most recent call last)",
      "\u001b[1;32m<ipython-input-149-e803c7e061c7>\u001b[0m in \u001b[0;36m<module>\u001b[1;34m\u001b[0m\n\u001b[0;32m      1\u001b[0m \u001b[0msampled_df\u001b[0m \u001b[1;33m=\u001b[0m \u001b[0mw2v_data\u001b[0m\u001b[1;33m\u001b[0m\u001b[1;33m\u001b[0m\u001b[0m\n\u001b[1;32m----> 2\u001b[1;33m \u001b[0msampled_df\u001b[0m\u001b[1;33m.\u001b[0m\u001b[0mschema\u001b[0m\u001b[1;33m(\u001b[0m\u001b[1;33m)\u001b[0m\u001b[1;33m\u001b[0m\u001b[1;33m\u001b[0m\u001b[0m\n\u001b[0m",
      "\u001b[1;31mTypeError\u001b[0m: 'StructType' object is not callable"
     ]
    }
   ],
   "source": [
    "sampled_df = w2v_data.sample(False, 0.00083, seed=42)\n",
    "sampled_df.show()\n"
   ]
  },
  {
   "cell_type": "code",
   "execution_count": null,
   "metadata": {},
   "outputs": [],
   "source": [
    "tokenizer = Tokenizer(inputCol=\"Title\", outputCol=\"tokenized_text\")\n",
    "tokenized_df = tokenizer.transform(sampled_df)\n",
    "\n",
    "word2Vec = Word2Vec(inputCol=\"tokenized_text\", outputCol=\"features\", vectorSize=100)\n",
    "fitted_word2Vec = word2Vec.fit(tokenized_df)"
   ]
  },
  {
   "cell_type": "code",
   "execution_count": 33,
   "metadata": {},
   "outputs": [],
   "source": [
    "train_df, test_val_df = tokenized_df.randomSplit([.7,.3],seed=1234)\n",
    "test_df, val_df = test_val_df.randomSplit([.5, .5], seed=1234)\n",
    "\n",
    "train_df = fitted_word2Vec.transform(train_df)\n",
    "test_df = fitted_word2Vec.transform(test_df)\n",
    "val_df = fitted_word2Vec.transform(val_df)"
   ]
  },
  {
   "cell_type": "code",
   "execution_count": 22,
   "metadata": {},
   "outputs": [
    {
     "data": {
      "text/plain": [
       "[Row(Id='1003396', Title='Show values of custom field created with ACF on a page', Tags='php custom-field', tokenized_text=['show', 'values', 'of', 'custom', 'field', 'created', 'with', 'acf', 'on', 'a', 'page'], features=DenseVector([-0.006, 0.0165, 0.0094, 0.0057, -0.005, -0.0341, 0.0205, 0.0053, -0.0411, 0.0487, 0.0354, -0.0176, 0.0342, 0.0171, 0.0229, -0.0165, -0.0026, 0.0021, 0.0123, -0.0327, -0.0641, -0.005, 0.0215, 0.0275, -0.0462, 0.0096, 0.006, -0.0434, -0.0325, -0.003, 0.0003, 0.0542, 0.0001, -0.0471, -0.004, -0.014, -0.0304, 0.0454, 0.0259, -0.0076, 0.0203, 0.026, 0.0021, -0.0337, 0.0053, -0.0317, -0.0224, -0.0503, -0.0287, -0.0272, 0.0217, -0.023, -0.0239, -0.0136, 0.011, -0.0, -0.0021, -0.0026, 0.0045, 0.0184, 0.05, -0.024, 0.005, -0.0266, 0.0077, 0.0487, 0.0266, 0.0347, 0.0107, -0.0184, 0.0069, -0.0351, -0.0154, 0.0061, -0.0069, 0.0033, 0.0048, 0.0201, -0.002, -0.0182, 0.021, -0.0109, 0.0147, 0.0252, 0.0099, 0.0104, -0.0092, 0.0124, -0.0152, -0.0287, -0.0105, -0.0677, -0.0223, -0.0276, 0.079, -0.0432, 0.0051, 0.0224, 0.0429, -0.0407]))]"
      ]
     },
     "execution_count": 22,
     "metadata": {},
     "output_type": "execute_result"
    }
   ],
   "source": [
    "train_df.take(1)"
   ]
  },
  {
   "cell_type": "markdown",
   "metadata": {},
   "source": [
    "### Setting up target Labels on Train Data"
   ]
  },
  {
   "cell_type": "code",
   "execution_count": 34,
   "metadata": {},
   "outputs": [
    {
     "data": {
      "text/plain": [
       "[Row(Id='1003396', Title='Show values of custom field created with ACF on a page', Tags='php custom-field', features=DenseVector([-0.006, 0.0165, 0.0094, 0.0057, -0.005, -0.0341, 0.0205, 0.0053, -0.0411, 0.0487, 0.0354, -0.0176, 0.0342, 0.0171, 0.0229, -0.0165, -0.0026, 0.0021, 0.0123, -0.0327, -0.0641, -0.005, 0.0215, 0.0275, -0.0462, 0.0096, 0.006, -0.0434, -0.0325, -0.003, 0.0003, 0.0542, 0.0001, -0.0471, -0.004, -0.014, -0.0304, 0.0454, 0.0259, -0.0076, 0.0203, 0.026, 0.0021, -0.0337, 0.0053, -0.0317, -0.0224, -0.0503, -0.0287, -0.0272, 0.0217, -0.023, -0.0239, -0.0136, 0.011, -0.0, -0.0021, -0.0026, 0.0045, 0.0184, 0.05, -0.024, 0.005, -0.0266, 0.0077, 0.0487, 0.0266, 0.0347, 0.0107, -0.0184, 0.0069, -0.0351, -0.0154, 0.0061, -0.0069, 0.0033, 0.0048, 0.0201, -0.002, -0.0182, 0.021, -0.0109, 0.0147, 0.0252, 0.0099, 0.0104, -0.0092, 0.0124, -0.0152, -0.0287, -0.0105, -0.0677, -0.0223, -0.0276, 0.079, -0.0432, 0.0051, 0.0224, 0.0429, -0.0407]), labels=[0, 0, 1, 0, 0, 0, 0, 0, 0, 0, 0, 0, 0, 0, 0, 0, 0, 0, 0, 0, 0, 0, 0, 0, 0, 0, 0, 0, 0, 0, 0, 0, 0, 0, 0, 0, 0, 0, 0, 0, 0, 0, 0, 0, 0, 0, 0, 0, 0, 0])]"
      ]
     },
     "execution_count": 34,
     "metadata": {},
     "output_type": "execute_result"
    }
   ],
   "source": [
    "target_tags = train_df.withColumn('labels', split(col(\"Tags\"),\" \"))\n",
    "\n",
    "train_df = target_tags.rdd.map(lambda r: my_function(r))\n",
    "\n",
    "train_cols = [\"Id\",\"Title\", \"Tags\",\"features\", \"labels\"]\n",
    "\n",
    "train_df = train_df.toDF(train_cols)\n",
    "\n",
    "train_df.take(1)"
   ]
  },
  {
   "cell_type": "markdown",
   "metadata": {},
   "source": [
    "### Seperate Labels into Columns"
   ]
  },
  {
   "cell_type": "code",
   "execution_count": 35,
   "metadata": {},
   "outputs": [
    {
     "data": {
      "text/plain": [
       "[Row(Id='1003396', Title='Show values of custom field created with ACF on a page', features=DenseVector([-0.006, 0.0165, 0.0094, 0.0057, -0.005, -0.0341, 0.0205, 0.0053, -0.0411, 0.0487, 0.0354, -0.0176, 0.0342, 0.0171, 0.0229, -0.0165, -0.0026, 0.0021, 0.0123, -0.0327, -0.0641, -0.005, 0.0215, 0.0275, -0.0462, 0.0096, 0.006, -0.0434, -0.0325, -0.003, 0.0003, 0.0542, 0.0001, -0.0471, -0.004, -0.014, -0.0304, 0.0454, 0.0259, -0.0076, 0.0203, 0.026, 0.0021, -0.0337, 0.0053, -0.0317, -0.0224, -0.0503, -0.0287, -0.0272, 0.0217, -0.023, -0.0239, -0.0136, 0.011, -0.0, -0.0021, -0.0026, 0.0045, 0.0184, 0.05, -0.024, 0.005, -0.0266, 0.0077, 0.0487, 0.0266, 0.0347, 0.0107, -0.0184, 0.0069, -0.0351, -0.0154, 0.0061, -0.0069, 0.0033, 0.0048, 0.0201, -0.002, -0.0182, 0.021, -0.0109, 0.0147, 0.0252, 0.0099, 0.0104, -0.0092, 0.0124, -0.0152, -0.0287, -0.0105, -0.0677, -0.0223, -0.0276, 0.079, -0.0432, 0.0051, 0.0224, 0.0429, -0.0407]), labels=[0, 0, 1, 0, 0, 0, 0, 0, 0, 0, 0, 0, 0, 0, 0, 0, 0, 0, 0, 0, 0, 0, 0, 0, 0, 0, 0, 0, 0, 0, 0, 0, 0, 0, 0, 0, 0, 0, 0, 0, 0, 0, 0, 0, 0, 0, 0, 0, 0, 0], c#=0, java=0, php=1, javascript=0, android=0, jquery=0, c++=0, python=0, iphone=0, aspnet=0, mysql=0, html=0, net=0, ios=0, objective-c=0, sql=0, css=0, linux=0, ruby-on-rails=0, windows=0, c=0, sql-server=0, ruby=0, wpf=0, xml=0, ajax=0, database=0, regex=0, windows-7=0, aspnet-mvc=0, xcode=0, django=0, osx=0, arrays=0, vbnet=0, eclipse=0, json=0, facebook=0, ruby-on-rails-3=0, ubuntu=0, performance=0, networking=0, string=0, multithreading=0, winforms=0, security=0, aspnet-mvc-3=0, visual-studio-2010=0, bash=0, homework=0)]"
      ]
     },
     "execution_count": 35,
     "metadata": {},
     "output_type": "execute_result"
    }
   ],
   "source": [
    "train_df = train_df.select(['Id']+['Title']+['features']+['labels']+[expr('labels[' + str(x) + ']') for x in range(0, num_labels)])\n",
    "\n",
    "for i in range(0, num_labels): \n",
    "    if '.' in mostUsedTags[i]:\n",
    "        mostUsedTags[i] = mostUsedTags[i].replace('.', '')\n",
    "\n",
    "colnames = ['Id']+['Title']+['features']+['labels'] + [str(mostUsedTags[i]) for i in range(0, num_labels)] \n",
    "train_df = train_df.toDF(*colnames)\n",
    "\n",
    "train_df.take(1)"
   ]
  },
  {
   "cell_type": "code",
   "execution_count": 37,
   "metadata": {},
   "outputs": [
    {
     "name": "stdout",
     "output_type": "stream",
     "text": [
      "c#\n",
      "java\n",
      "php\n",
      "javascript\n",
      "android\n",
      "jquery\n",
      "c++\n",
      "python\n",
      "iphone\n",
      "aspnet\n",
      "mysql\n",
      "html\n",
      "net\n",
      "ios\n",
      "objective-c\n",
      "sql\n",
      "css\n",
      "linux\n",
      "ruby-on-rails\n",
      "windows\n",
      "c\n",
      "sql-server\n",
      "ruby\n",
      "wpf\n",
      "xml\n",
      "ajax\n",
      "database\n",
      "regex\n",
      "windows-7\n",
      "aspnet-mvc\n",
      "xcode\n",
      "django\n",
      "osx\n",
      "arrays\n",
      "vbnet\n",
      "eclipse\n",
      "json\n",
      "facebook\n",
      "ruby-on-rails-3\n",
      "ubuntu\n",
      "performance\n",
      "networking\n",
      "string\n",
      "multithreading\n",
      "winforms\n",
      "security\n",
      "aspnet-mvc-3\n",
      "visual-studio-2010\n",
      "bash\n",
      "homework\n"
     ]
    }
   ],
   "source": [
    "for i in range(0, num_labels):\n",
    "    lr = LogisticRegression(maxIter=100, featuresCol='features', labelCol=str(mostUsedTags[i]), predictionCol='prediction')\n",
    "    lrModel = lr.fit(train_df)\n",
    "    classifier_array.append(lrModel)\n",
    "    print(str(mostUsedTags[i]))\n"
   ]
  },
  {
   "cell_type": "code",
   "execution_count": 41,
   "metadata": {},
   "outputs": [
    {
     "name": "stdout",
     "output_type": "stream",
     "text": [
      "+---+-----+\n",
      "|php|count|\n",
      "+---+-----+\n",
      "|  0| 3308|\n",
      "|  1|  223|\n",
      "+---+-----+\n",
      "\n"
     ]
    }
   ],
   "source": [
    "predictions = classifier_array[2].transform(test_df)\n",
    "predictions.take(5)\n",
    "\n",
    "train_df.groupBy('php').count().show()"
   ]
  }
 ],
 "metadata": {
  "kernelspec": {
   "display_name": "Python 3",
   "language": "python",
   "name": "python3"
  },
  "language_info": {
   "codemirror_mode": {
    "name": "ipython",
    "version": 3
   },
   "file_extension": ".py",
   "mimetype": "text/x-python",
   "name": "python",
   "nbconvert_exporter": "python",
   "pygments_lexer": "ipython3",
   "version": "3.8.8"
  }
 },
 "nbformat": 4,
 "nbformat_minor": 4
}
